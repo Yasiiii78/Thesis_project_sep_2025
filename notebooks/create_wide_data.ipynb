{
 "cells": [
  {
   "cell_type": "code",
   "execution_count": null,
   "id": "8d86d1e3",
   "metadata": {},
   "outputs": [
    {
     "ename": "NameError",
     "evalue": "name '__file__' is not defined",
     "output_type": "error",
     "traceback": [
      "\u001b[1;31m---------------------------------------------------------------------------\u001b[0m",
      "\u001b[1;31mNameError\u001b[0m                                 Traceback (most recent call last)",
      "Cell \u001b[1;32mIn[1], line 6\u001b[0m\n\u001b[0;32m      3\u001b[0m \u001b[38;5;28;01mimport\u001b[39;00m \u001b[38;5;21;01mos\u001b[39;00m\n\u001b[0;32m      5\u001b[0m \u001b[38;5;66;03m# Get the notebook directory and navigate to data folder\u001b[39;00m\n\u001b[1;32m----> 6\u001b[0m notebook_dir \u001b[38;5;241m=\u001b[39m os\u001b[38;5;241m.\u001b[39mpath\u001b[38;5;241m.\u001b[39mdirname(os\u001b[38;5;241m.\u001b[39mpath\u001b[38;5;241m.\u001b[39mabspath(\u001b[38;5;18m__file__\u001b[39m))\n\u001b[0;32m      7\u001b[0m data_dir \u001b[38;5;241m=\u001b[39m os\u001b[38;5;241m.\u001b[39mpath\u001b[38;5;241m.\u001b[39mjoin(os\u001b[38;5;241m.\u001b[39mpath\u001b[38;5;241m.\u001b[39mdirname(notebook_dir), \u001b[38;5;124m'\u001b[39m\u001b[38;5;124mdata\u001b[39m\u001b[38;5;124m'\u001b[39m)\n",
      "\u001b[1;31mNameError\u001b[0m: name '__file__' is not defined"
     ]
    }
   ],
   "source": [
    "import pandas as pd\n",
    "import geopandas as gpd\n",
    "import os\n",
    "\n",
    "# Get the current working directory and navigate to data folder\n",
    "# For Jupyter notebooks, we assume the notebook is in the notebooks/ subdirectory\n",
    "current_dir = os.getcwd()\n",
    "# Navigate up one level from notebooks/ to the project root, then to data/\n",
    "data_dir = os.path.join(os.path.dirname(current_dir), 'data')\n",
    "\n",
    "# Alternative: if running from project root, use this instead:\n",
    "# data_dir = os.path.join(current_dir, 'data')"
   ]
  },
  {
   "cell_type": "code",
   "execution_count": null,
   "id": "62276c73",
   "metadata": {},
   "outputs": [],
   "source": [
    "df_tt = pd.read_csv(os.path.join(data_dir, 'travel_time', 'final_Asymmetric_interzonal_applied_tt_v3.csv'))"
   ]
  },
  {
   "cell_type": "code",
   "execution_count": null,
   "id": "a0671374",
   "metadata": {},
   "outputs": [],
   "source": [
    "df_jobs = pd.read_csv(os.path.join(data_dir, 'new_job_data', 'jobs_pc5.csv'))  # This file may need to be created/moved"
   ]
  },
  {
   "cell_type": "code",
   "execution_count": null,
   "id": "27fc52ef",
   "metadata": {},
   "outputs": [],
   "source": [
    "df_agent = pd.read_csv(os.path.join(data_dir, 'LRO 2023 met ww afstand', 'df_agent_v5.csv'))"
   ]
  },
  {
   "cell_type": "code",
   "execution_count": null,
   "id": "8fbd48b6",
   "metadata": {},
   "outputs": [],
   "source": [
    "df_wide_tt = pd.read_csv(os.path.join(data_dir, 'travel_time', 'wide_data_tt.csv'))"
   ]
  },
  {
   "cell_type": "code",
   "execution_count": null,
   "id": "0040bdae",
   "metadata": {},
   "outputs": [],
   "source": [
    "df_new_jobs = gpd.read_file(os.path.join(data_dir, 'new_job_data', 'buurten_2022.gpkg'))"
   ]
  },
  {
   "cell_type": "markdown",
   "id": "8f4c6b71",
   "metadata": {},
   "source": [
    "The coupling dataset can be exchanged with the one made before."
   ]
  },
  {
   "cell_type": "code",
   "execution_count": null,
   "id": "6bf430ca",
   "metadata": {},
   "outputs": [],
   "source": [
    "df_coupling = pd.read_excel(os.path.join(data_dir, 'geo_coupled', 'koppeling buurten pc4.xlsx'))"
   ]
  },
  {
   "cell_type": "markdown",
   "id": "0763496e",
   "metadata": {},
   "source": [
    "To check the urbanity level sorting and meaning"
   ]
  },
  {
   "cell_type": "code",
   "execution_count": null,
   "id": "a06b11bf",
   "metadata": {},
   "outputs": [
    {
     "data": {
      "text/plain": [
       "Index(['gwb_code', 'pst_mvp', 'urbanity', 'Unnamed: 3', 'Unnamed: 4',\n",
       "       'Unnamed: 5', 'Unnamed: 6', 'pst_mvp.1', 'som', 'aantal',\n",
       "       'average urbanity'],\n",
       "      dtype='object')"
      ]
     },
     "execution_count": 9,
     "metadata": {},
     "output_type": "execute_result"
    }
   ],
   "source": [
    "df_new_jobs[['stedelijkheidsgraad', 'inwoners_totaal']].groupby('stedelijkheidsgraad').mean()"
   ]
  },
  {
   "cell_type": "code",
   "execution_count": 8,
   "id": "5d14c3c2",
   "metadata": {},
   "outputs": [
    {
     "data": {
      "text/html": [
       "<div>\n",
       "<style scoped>\n",
       "    .dataframe tbody tr th:only-of-type {\n",
       "        vertical-align: middle;\n",
       "    }\n",
       "\n",
       "    .dataframe tbody tr th {\n",
       "        vertical-align: top;\n",
       "    }\n",
       "\n",
       "    .dataframe thead th {\n",
       "        text-align: right;\n",
       "    }\n",
       "</style>\n",
       "<table border=\"1\" class=\"dataframe\">\n",
       "  <thead>\n",
       "    <tr style=\"text-align: right;\">\n",
       "      <th></th>\n",
       "      <th>gwb_code</th>\n",
       "      <th>pst_mvp</th>\n",
       "      <th>urbanity</th>\n",
       "    </tr>\n",
       "  </thead>\n",
       "  <tbody>\n",
       "    <tr>\n",
       "      <th>0</th>\n",
       "      <td>BU00140000</td>\n",
       "      <td>9712</td>\n",
       "      <td>1.0</td>\n",
       "    </tr>\n",
       "    <tr>\n",
       "      <th>1</th>\n",
       "      <td>BU00140001</td>\n",
       "      <td>9711</td>\n",
       "      <td>1.0</td>\n",
       "    </tr>\n",
       "    <tr>\n",
       "      <th>2</th>\n",
       "      <td>BU00140002</td>\n",
       "      <td>9711</td>\n",
       "      <td>1.0</td>\n",
       "    </tr>\n",
       "    <tr>\n",
       "      <th>3</th>\n",
       "      <td>BU00140003</td>\n",
       "      <td>9718</td>\n",
       "      <td>1.0</td>\n",
       "    </tr>\n",
       "    <tr>\n",
       "      <th>4</th>\n",
       "      <td>BU00140004</td>\n",
       "      <td>9717</td>\n",
       "      <td>1.0</td>\n",
       "    </tr>\n",
       "    <tr>\n",
       "      <th>...</th>\n",
       "      <td>...</td>\n",
       "      <td>...</td>\n",
       "      <td>...</td>\n",
       "    </tr>\n",
       "    <tr>\n",
       "      <th>14312</th>\n",
       "      <td>BU19910603</td>\n",
       "      <td>5411</td>\n",
       "      <td>5.0</td>\n",
       "    </tr>\n",
       "    <tr>\n",
       "      <th>14313</th>\n",
       "      <td>BU19910604</td>\n",
       "      <td>5411</td>\n",
       "      <td>5.0</td>\n",
       "    </tr>\n",
       "    <tr>\n",
       "      <th>14314</th>\n",
       "      <td>BU19910605</td>\n",
       "      <td>5411</td>\n",
       "      <td>5.0</td>\n",
       "    </tr>\n",
       "    <tr>\n",
       "      <th>14315</th>\n",
       "      <td>BU19910606</td>\n",
       "      <td>5411</td>\n",
       "      <td>5.0</td>\n",
       "    </tr>\n",
       "    <tr>\n",
       "      <th>14316</th>\n",
       "      <td>BU19910607</td>\n",
       "      <td>5411</td>\n",
       "      <td>5.0</td>\n",
       "    </tr>\n",
       "  </tbody>\n",
       "</table>\n",
       "<p>14317 rows × 3 columns</p>\n",
       "</div>"
      ],
      "text/plain": [
       "         gwb_code pst_mvp  urbanity\n",
       "0      BU00140000    9712       1.0\n",
       "1      BU00140001    9711       1.0\n",
       "2      BU00140002    9711       1.0\n",
       "3      BU00140003    9718       1.0\n",
       "4      BU00140004    9717       1.0\n",
       "...           ...     ...       ...\n",
       "14312  BU19910603    5411       5.0\n",
       "14313  BU19910604    5411       5.0\n",
       "14314  BU19910605    5411       5.0\n",
       "14315  BU19910606    5411       5.0\n",
       "14316  BU19910607    5411       5.0\n",
       "\n",
       "[14317 rows x 3 columns]"
      ]
     },
     "execution_count": 8,
     "metadata": {},
     "output_type": "execute_result"
    }
   ],
   "source": [
    "df_coupling[['gwb_code', 'pst_mvp', 'urbanity']]"
   ]
  },
  {
   "cell_type": "code",
   "execution_count": 9,
   "id": "d2f150c2",
   "metadata": {},
   "outputs": [],
   "source": [
    "df_new_jobs= df_new_jobs.merge(df_coupling[['gwb_code', 'pst_mvp', 'urbanity']], how='left', left_on='zone_id', right_on='gwb_code')"
   ]
  },
  {
   "cell_type": "code",
   "execution_count": 10,
   "id": "9b5e746c",
   "metadata": {
    "vscode": {
     "languageId": "javascript"
    }
   },
   "outputs": [],
   "source": [
    "rename_dict = {\n",
    "    'arbeidsplaatsen_totaal': 'total_jobs',\n",
    "    'arbeidsplaatsen_woonfunctie': 'residential_jobs',\n",
    "    'arbeidsplaatsen_standplaats': 'standplace_jobs',\n",
    "    'arbeidsplaatsen_ligplaats': 'berth_jobs',\n",
    "    'arbeidsplaatsen_celfunctie': 'cell_function_jobs',\n",
    "    'arbeidsplaatsen_onderwijsfunctie': 'education_function_jobs',\n",
    "    'arbeidsplaatsen_industriefunctie': 'industry_function_jobs',\n",
    "    'arbeidsplaatsen_kantoorfunctie': 'office_function_jobs',\n",
    "    'arbeidsplaatsen_overige_winkelfunctie': 'other_shop_function_jobs',\n",
    "    'arbeidsplaatsen_overige_voedselwinkelfunctie': 'other_food_shop_function_jobs',\n",
    "    'arbeidsplaatsen_supermarkt_voedselwinkelfunctie': 'supermarket_food_shop_function_jobs',\n",
    "    'arbeidsplaatsen_gezondheidszorgfunctie': 'healthcare_function_jobs',\n",
    "    'arbeidsplaatsen_sportfunctie': 'sports_function_jobs',\n",
    "    'arbeidsplaatsen_bijeenkomstfunctie': 'meeting_function_jobs',\n",
    "    'arbeidsplaatsen_logiesfunctie': 'lodging_function_jobs',\n",
    "    'arbeidsplaatsen_boerderijfunctie': 'farm_function_jobs',\n",
    "    'arbeidsplaatsen_terminalfunctie': 'terminal_function_jobs',\n",
    "    'arbeidsplaatsen_distributiecentrumfunctie': 'distribution_center_function_jobs',\n",
    "    'arbeidsplaatsen_overige_gebruiksfunctie': 'other_usage_function_jobs',\n",
    "    'arbeidsplaatsen_gecombineerde_functies': 'combined_function_jobs'\n",
    "}\n",
    "\n",
    "df_new_jobs = df_new_jobs.rename(columns=rename_dict)"
   ]
  },
  {
   "cell_type": "code",
   "execution_count": 11,
   "id": "43e6b021",
   "metadata": {
    "vscode": {
     "languageId": "javascript"
    }
   },
   "outputs": [],
   "source": [
    "columns_to_keep = [col for col in df_new_jobs.columns if col.endswith('_jobs')] + ['gwb_code', 'pst_mvp', 'urbanity']\n",
    "df_new_jobs = df_new_jobs[columns_to_keep]"
   ]
  },
  {
   "cell_type": "code",
   "execution_count": 12,
   "id": "4e0da2fc",
   "metadata": {},
   "outputs": [],
   "source": [
    "job_columns = [col for col in df_new_jobs.columns if col.endswith('_jobs')]\n",
    "\n",
    "# Create aggregation dictionary\n",
    "agg_dict = {}\n",
    "for col in job_columns:\n",
    "    agg_dict[col] = 'sum'\n",
    "agg_dict['urbanity'] = 'mean'\n",
    "\n",
    "\n",
    "df_jobs_pc4 = df_new_jobs.groupby('pst_mvp').agg(agg_dict).reset_index()\n",
    "\n"
   ]
  },
  {
   "cell_type": "code",
   "execution_count": 15,
   "id": "1eb2acb8",
   "metadata": {},
   "outputs": [],
   "source": [
    "df_wide_tt.iloc[:, 2:] = df_wide_tt.iloc[:, 2:] / 60\n"
   ]
  },
  {
   "cell_type": "code",
   "execution_count": 13,
   "id": "7f576a3f",
   "metadata": {},
   "outputs": [],
   "source": [
    "df_jobs_pc4['urbanity'] = df_jobs_pc4['urbanity'].round().astype(int)"
   ]
  },
  {
   "cell_type": "code",
   "execution_count": 19,
   "id": "ac30afd3",
   "metadata": {},
   "outputs": [
    {
     "data": {
      "text/plain": [
       "9370138.994658967"
      ]
     },
     "execution_count": 19,
     "metadata": {},
     "output_type": "execute_result"
    }
   ],
   "source": [
    "df_jobs_pc4['total_jobs'].sum()"
   ]
  },
  {
   "cell_type": "code",
   "execution_count": 20,
   "id": "0913bf05",
   "metadata": {},
   "outputs": [],
   "source": [
    "job_columns = ['pst_mvp', 'total_jobs', 'residential_jobs', 'standplace_jobs',\n",
    "       'berth_jobs', 'cell_function_jobs', 'education_function_jobs',\n",
    "       'industry_function_jobs', 'office_function_jobs',\n",
    "       'other_shop_function_jobs', 'other_food_shop_function_jobs',\n",
    "       'supermarket_food_shop_function_jobs', 'healthcare_function_jobs',\n",
    "       'sports_function_jobs', 'meeting_function_jobs',\n",
    "       'lodging_function_jobs', 'farm_function_jobs', 'terminal_function_jobs',\n",
    "       'distribution_center_function_jobs', 'other_usage_function_jobs',\n",
    "       'combined_function_jobs']\n",
    "\n",
    "\n",
    "\n",
    "import unidecode\n",
    "\n",
    "def formalize_column(col):\n",
    "       # Remove accents, replace spaces and special chars with underscores, and lowercase\n",
    "       col = unidecode.unidecode(col)\n",
    "       col = col.replace('-', '').replace(',', '').replace(' ', '_').replace('&', 'en')\n",
    "       col = col.replace('__', '_').replace('(', '').replace(')', '')\n",
    "       return col.lower()\n",
    "\n",
    "formal_columns = [formalize_column(col) for col in df_jobs_pc4.columns]\n",
    "rename_dict = dict(zip(df_jobs_pc4.columns, formal_columns))\n",
    "df_jobs_pc4 = df_jobs_pc4.rename(columns=rename_dict)"
   ]
  },
  {
   "cell_type": "code",
   "execution_count": null,
   "id": "e10b31c5",
   "metadata": {},
   "outputs": [
    {
     "name": "stdout",
     "output_type": "stream",
     "text": [
      "['industry_function_jobs'] work_sector_Industry_Construction\n",
      "['other_shop_function_jobs', 'other_food_shop_function_jobs', 'supermarket_food_shop_function_jobs'] work_sector_Shop\n",
      "['sports_function_jobs', 'meeting_function_jobs', 'lodging_function_jobs'] work_sector_Hospitality_Culture_Sports\n",
      "['education_function_jobs'] work_sector_Education\n",
      "['residential_jobs', 'standplace_jobs', 'berth_jobs', 'cell_function_jobs', 'farm_function_jobs', 'terminal_function_jobs', 'distribution_center_function_jobs', 'other_usage_function_jobs', 'combined_function_jobs'] work_sector_Remaining\n",
      "['healthcare_function_jobs'] work_sector_Care\n",
      "['office_function_jobs'] work_sector_Office_Services\n"
     ]
    }
   ],
   "source": [
    "\n",
    "job_to_sector_group = {\n",
    "    'residential_jobs': 'work_sector_Remaining',\n",
    "    'standplace_jobs': 'work_sector_Remaining',\n",
    "    'berth_jobs': 'work_sector_Remaining',\n",
    "    'cell_function_jobs': 'work_sector_Remaining',\n",
    "    'education_function_jobs': 'work_sector_Education',\n",
    "    'industry_function_jobs': 'work_sector_Industry_Construction',\n",
    "    'office_function_jobs': 'work_sector_Office_Services',\n",
    "    'other_shop_function_jobs': 'work_sector_Shop',\n",
    "    'other_food_shop_function_jobs': 'work_sector_Shop',\n",
    "    'supermarket_food_shop_function_jobs': 'work_sector_Shop',\n",
    "    'healthcare_function_jobs': 'work_sector_Care',\n",
    "    'sports_function_jobs': 'work_sector_Hospitality_Culture_Sports',\n",
    "    'meeting_function_jobs': 'work_sector_Hospitality_Culture_Sports',\n",
    "    'lodging_function_jobs': 'work_sector_Hospitality_Culture_Sports',\n",
    "    'farm_function_jobs': 'work_sector_Remaining',\n",
    "    'terminal_function_jobs': 'work_sector_Remaining',\n",
    "    'distribution_center_function_jobs': 'work_sector_Remaining',\n",
    "    'other_usage_function_jobs': 'work_sector_Remaining',\n",
    "    'combined_function_jobs': 'work_sector_Remaining',\n",
    "}\n",
    "\n",
    "unique_sectors = list(set(job_to_sector_group.values()))\n",
    "\n",
    "for sector in unique_sectors:\n",
    "    cols = [col for col, grp in job_to_sector_group.items() if grp == sector]\n",
    "    print(cols, sector)\n",
    "    df_jobs_pc4[f'{sector}_jobs'] = df_jobs_pc4[cols].sum(axis=1)\n",
    "\n"
   ]
  },
  {
   "cell_type": "code",
   "execution_count": 23,
   "id": "64d5dba7",
   "metadata": {},
   "outputs": [],
   "source": [
    "job_columns = [col for col in df_jobs_pc4.columns if col.endswith('_jobs')]"
   ]
  },
  {
   "cell_type": "code",
   "execution_count": 24,
   "id": "3ca28b9b",
   "metadata": {},
   "outputs": [],
   "source": [
    "work_sector_columns = [col for col in job_columns if col.startswith('work_sector_')] + ['total_jobs', 'urbanity']"
   ]
  },
  {
   "cell_type": "code",
   "execution_count": null,
   "id": "6875ad68",
   "metadata": {},
   "outputs": [],
   "source": [
    "# removing invalid codes\n",
    "df_jobs['pc4_code'] = pd.to_numeric(df_jobs['pc4_code'], errors='coerce').dropna().astype(int)\n",
    "\n",
    "df_jobs_pc4['pst_mvp'] = pd.to_numeric(df_jobs_pc4['pst_mvp'], errors='coerce').dropna().astype(int)\n",
    "df_jobs_pc4 = df_jobs_pc4[df_jobs_pc4['pst_mvp'].isin(df_jobs['pc4_code'].unique())]"
   ]
  },
  {
   "cell_type": "code",
   "execution_count": null,
   "id": "a6cee70e",
   "metadata": {},
   "outputs": [
    {
     "data": {
      "text/html": [
       "<div>\n",
       "<style scoped>\n",
       "    .dataframe tbody tr th:only-of-type {\n",
       "        vertical-align: middle;\n",
       "    }\n",
       "\n",
       "    .dataframe tbody tr th {\n",
       "        vertical-align: top;\n",
       "    }\n",
       "\n",
       "    .dataframe thead th {\n",
       "        text-align: right;\n",
       "    }\n",
       "</style>\n",
       "<table border=\"1\" class=\"dataframe\">\n",
       "  <thead>\n",
       "    <tr style=\"text-align: right;\">\n",
       "      <th></th>\n",
       "      <th>work_sector_Industry_Construction_jobs_1011</th>\n",
       "      <th>work_sector_Shop_jobs_1011</th>\n",
       "      <th>work_sector_Hospitality_Culture_Sports_jobs_1011</th>\n",
       "      <th>work_sector_Education_jobs_1011</th>\n",
       "      <th>work_sector_Remaining_jobs_1011</th>\n",
       "      <th>work_sector_Care_jobs_1011</th>\n",
       "      <th>work_sector_Office_Services_jobs_1011</th>\n",
       "      <th>total_jobs_1011</th>\n",
       "      <th>urbanity_1011</th>\n",
       "      <th>work_sector_Industry_Construction_jobs_1012</th>\n",
       "      <th>...</th>\n",
       "      <th>urbanity_9995</th>\n",
       "      <th>work_sector_Industry_Construction_jobs_9997</th>\n",
       "      <th>work_sector_Shop_jobs_9997</th>\n",
       "      <th>work_sector_Hospitality_Culture_Sports_jobs_9997</th>\n",
       "      <th>work_sector_Education_jobs_9997</th>\n",
       "      <th>work_sector_Remaining_jobs_9997</th>\n",
       "      <th>work_sector_Care_jobs_9997</th>\n",
       "      <th>work_sector_Office_Services_jobs_9997</th>\n",
       "      <th>total_jobs_9997</th>\n",
       "      <th>urbanity_9997</th>\n",
       "    </tr>\n",
       "  </thead>\n",
       "  <tbody>\n",
       "    <tr>\n",
       "      <th>0</th>\n",
       "      <td>776.784091</td>\n",
       "      <td>892.4406</td>\n",
       "      <td>2460.245597</td>\n",
       "      <td>706.632673</td>\n",
       "      <td>3796.112586</td>\n",
       "      <td>48.083003</td>\n",
       "      <td>6364.772002</td>\n",
       "      <td>15045.070551</td>\n",
       "      <td>1.0</td>\n",
       "      <td>723.007734</td>\n",
       "      <td>...</td>\n",
       "      <td>5.0</td>\n",
       "      <td>40.029481</td>\n",
       "      <td>0.0</td>\n",
       "      <td>28.901491</td>\n",
       "      <td>8.089959</td>\n",
       "      <td>12.210298</td>\n",
       "      <td>0.0</td>\n",
       "      <td>0.0</td>\n",
       "      <td>89.231228</td>\n",
       "      <td>5.0</td>\n",
       "    </tr>\n",
       "  </tbody>\n",
       "</table>\n",
       "<p>1 rows × 34596 columns</p>\n",
       "</div>"
      ],
      "text/plain": [
       "   work_sector_Industry_Construction_jobs_1011  work_sector_Shop_jobs_1011  \\\n",
       "0                                   776.784091                    892.4406   \n",
       "\n",
       "   work_sector_Hospitality_Culture_Sports_jobs_1011  \\\n",
       "0                                       2460.245597   \n",
       "\n",
       "   work_sector_Education_jobs_1011  work_sector_Remaining_jobs_1011  \\\n",
       "0                       706.632673                      3796.112586   \n",
       "\n",
       "   work_sector_Care_jobs_1011  work_sector_Office_Services_jobs_1011  \\\n",
       "0                   48.083003                            6364.772002   \n",
       "\n",
       "   total_jobs_1011  urbanity_1011  \\\n",
       "0     15045.070551            1.0   \n",
       "\n",
       "   work_sector_Industry_Construction_jobs_1012  ...  urbanity_9995  \\\n",
       "0                                   723.007734  ...            5.0   \n",
       "\n",
       "   work_sector_Industry_Construction_jobs_9997  work_sector_Shop_jobs_9997  \\\n",
       "0                                    40.029481                         0.0   \n",
       "\n",
       "   work_sector_Hospitality_Culture_Sports_jobs_9997  \\\n",
       "0                                         28.901491   \n",
       "\n",
       "   work_sector_Education_jobs_9997  work_sector_Remaining_jobs_9997  \\\n",
       "0                         8.089959                        12.210298   \n",
       "\n",
       "   work_sector_Care_jobs_9997  work_sector_Office_Services_jobs_9997  \\\n",
       "0                         0.0                                    0.0   \n",
       "\n",
       "   total_jobs_9997  urbanity_9997  \n",
       "0        89.231228            5.0  \n",
       "\n",
       "[1 rows x 34596 columns]"
      ]
     },
     "execution_count": 27,
     "metadata": {},
     "output_type": "execute_result"
    }
   ],
   "source": [
    "# Creating new column names for each pc4_code\n",
    "new_columns = {}\n",
    "for _, row in df_jobs_pc4.iterrows():\n",
    "    pc4_code = int(row['pst_mvp']) if not pd.isna(row['pst_mvp']) else None\n",
    "    for sector in work_sector_columns:\n",
    "        new_col_name = f\"{sector}_{pc4_code}\"\n",
    "        new_columns[new_col_name] = row[sector]\n",
    "\n",
    "# a new dataframe\n",
    "df_jobs_wide = pd.DataFrame([new_columns])\n",
    "df_jobs_wide"
   ]
  },
  {
   "cell_type": "code",
   "execution_count": 28,
   "id": "9ba9341a",
   "metadata": {},
   "outputs": [],
   "source": [
    "df_wide_tt.rename(columns=lambda col: f'tt_{col}' if col not in ['id_nr', 'living_adress'] else col, inplace=True)"
   ]
  },
  {
   "cell_type": "code",
   "execution_count": 29,
   "id": "e4f61bd1",
   "metadata": {},
   "outputs": [],
   "source": [
    "\n",
    "df_jobs_wide = pd.concat([df_jobs_wide]*2550, ignore_index=True)"
   ]
  },
  {
   "cell_type": "code",
   "execution_count": 30,
   "id": "a9b47e47",
   "metadata": {},
   "outputs": [],
   "source": [
    "df_combined = pd.concat([df_wide_tt, df_jobs_wide ], axis=1)"
   ]
  },
  {
   "cell_type": "code",
   "execution_count": 31,
   "id": "86dc7436",
   "metadata": {},
   "outputs": [],
   "source": [
    "formal_columns = [formalize_column(col) for col in df_agent.columns]\n",
    "rename_dict = dict(zip(df_agent.columns, formal_columns))\n",
    "df_agent = df_agent.rename(columns=rename_dict)"
   ]
  },
  {
   "cell_type": "markdown",
   "id": "c6c8e6fc",
   "metadata": {},
   "source": [
    "Grouping household variable"
   ]
  },
  {
   "cell_type": "code",
   "execution_count": 33,
   "id": "0525608a",
   "metadata": {},
   "outputs": [],
   "source": [
    "HH_compound_map = {\n",
    "    'child_<12': 'with_child',\n",
    "    'child_>12': 'with_child',\n",
    "    'other_people': 'without_child',\n",
    "    'without_child': 'without_child', \n",
    "    'alone': 'without_child',\n",
    "    'unknown': 'without_child',\n",
    "}\n",
    "\n",
    "\n",
    "df_agent['hh_compund_grouped'] = df_agent['hh_compound'].map(HH_compound_map)\n"
   ]
  },
  {
   "cell_type": "markdown",
   "id": "6eb846ac",
   "metadata": {},
   "source": [
    "This function makes a dummy variable (one column for each category level)."
   ]
  },
  {
   "cell_type": "code",
   "execution_count": 34,
   "id": "1f9583f2",
   "metadata": {},
   "outputs": [],
   "source": [
    "def get_dummied(df, columns, prefix='', prefix_sep=''):\n",
    "    \"\"\"\n",
    "    Returns a DataFrame with dummy variables for the specified columns.\n",
    "    \n",
    "    Args:\n",
    "        df (pd.DataFrame): Input DataFrame.\n",
    "        columns (list): List of column names to dummy.\n",
    "        prefix (str): Prefix for new columns.\n",
    "        prefix_sep (str): Separator between prefix and column name.\n",
    "        \n",
    "    Returns:\n",
    "        pd.DataFrame: DataFrame with dummy variables.\n",
    "    \"\"\"\n",
    "    return pd.get_dummies(df, columns=columns, prefix=prefix, prefix_sep=prefix_sep)"
   ]
  },
  {
   "cell_type": "markdown",
   "id": "3168d5df",
   "metadata": {},
   "source": [
    "Mapping LRO work sector to CBS work sector groups."
   ]
  },
  {
   "cell_type": "code",
   "execution_count": 35,
   "id": "debc4485",
   "metadata": {},
   "outputs": [],
   "source": [
    "\n",
    "sector_mapping = {\n",
    "    1: 'Agriculture_and_fisheries',\n",
    "    2: 'Industry',\n",
    "    3: 'Construction',\n",
    "    4: 'Utilities',\n",
    "    5: 'Commerce',\n",
    "    6: 'Hospitality',\n",
    "    7: 'Transportation',\n",
    "    8: 'ICT',\n",
    "    9: 'Financial_services',\n",
    "    10: 'Business_services',\n",
    "    11: 'Public_Administration',\n",
    "    12: 'Education',\n",
    "    13: 'Health_and_welfare',\n",
    "    14: 'Culture',\n",
    "    15: 'Other_services'\n",
    "}\n",
    "\n",
    "df_agent['work_sector_name'] = df_agent['work_sector'].map(sector_mapping)\n",
    "sector_group_map = {\n",
    "    'Agriculture_and_fisheries': 'Remaining',\n",
    "    'Industry': 'Industry_Construction',\n",
    "    'Construction': 'Industry_Construction',\n",
    "    'Utilities': 'Remaining',\n",
    "    'Commerce': 'Shop',\n",
    "    'Hospitality': 'Hospitality_Culture_Sports',\n",
    "    'Transportation': 'Industry_Construction',\n",
    "    'ICT': 'Office_Services',\n",
    "    'Financial_services': 'Office_Services',\n",
    "    'Business_services': 'Office_Services',\n",
    "    'Public_Administration': 'Office_Services',\n",
    "    'Education': 'Education',\n",
    "    'Health_and_welfare': 'Care',\n",
    "    'Culture': 'Hospitality_Culture_Sports',\n",
    "    'Other_services': 'Remaining'\n",
    "}\n",
    "\n",
    "df_agent['sector_cluster'] = df_agent['work_sector_name'].map(sector_group_map)"
   ]
  },
  {
   "cell_type": "markdown",
   "id": "b588a8a7",
   "metadata": {},
   "source": [
    "Grouping age categories"
   ]
  },
  {
   "cell_type": "code",
   "execution_count": 36,
   "id": "f3e5f989",
   "metadata": {},
   "outputs": [],
   "source": [
    "df_agent['age_category_BC'] = df_agent['age_category'].isin(['B', 'C'])\n",
    "df_agent['age_category_DE'] = df_agent['age_category'].isin(['D', 'E'])"
   ]
  },
  {
   "cell_type": "code",
   "execution_count": 37,
   "id": "4c7d91e2",
   "metadata": {},
   "outputs": [],
   "source": [
    "agent_char = [[\n",
    "       'gender', 'work_flexibility',\n",
    "       'sector_cluster', 'hh_compund_grouped', 'age_category']]"
   ]
  },
  {
   "cell_type": "code",
   "execution_count": 39,
   "id": "dfebd9c0",
   "metadata": {},
   "outputs": [
    {
     "data": {
      "text/plain": [
       "array([ 1.,  2., nan])"
      ]
     },
     "execution_count": 39,
     "metadata": {},
     "output_type": "execute_result"
    }
   ],
   "source": [
    "df_agent['gender'].unique()"
   ]
  },
  {
   "cell_type": "code",
   "execution_count": 40,
   "id": "b3782c73",
   "metadata": {},
   "outputs": [],
   "source": [
    "\n",
    "dummy_vars = agent_char[0]\n",
    "\n",
    "df_agent_dummies = get_dummied(df_agent, columns=dummy_vars, prefix=dummy_vars, prefix_sep='_')"
   ]
  },
  {
   "cell_type": "code",
   "execution_count": 41,
   "id": "1b07bc2c",
   "metadata": {},
   "outputs": [],
   "source": [
    "dummy_columns = [col for col in df_agent_dummies.columns if any(var in col for var in dummy_vars)]\n",
    "\n",
    "# Keep only the specified columns plus all dummy columns\n",
    "columns_to_keep = ['id_nr', 'destination_pc4'] + dummy_columns\n",
    "\n",
    "df_agent_filtered = df_agent_dummies[columns_to_keep]"
   ]
  },
  {
   "cell_type": "code",
   "execution_count": 42,
   "id": "20f68563",
   "metadata": {},
   "outputs": [],
   "source": [
    "df_wide = df_agent_filtered.merge(df_combined, on='id_nr', how='left')"
   ]
  },
  {
   "cell_type": "code",
   "execution_count": 46,
   "id": "e97421e8",
   "metadata": {},
   "outputs": [],
   "source": [
    "unique_pc4 = df_tt['pc4_from'].unique()"
   ]
  },
  {
   "cell_type": "code",
   "execution_count": null,
   "id": "764347ad",
   "metadata": {},
   "outputs": [],
   "source": [
    "\n",
    "unique_pc4 = df_tt['pc4_from'].unique()\n",
    "\n",
    "df_tt['afstand'] = df_tt['afstand'] * 2 # 2 ways\n",
    "\n",
    "df_distance_wide = df_tt.pivot_table(\n",
    "    index='pc4_from', \n",
    "    columns='pc4_to', \n",
    "    values='afstand', \n",
    "    fill_value=0\n",
    ")\n",
    "\n",
    "df_distance_wide = df_distance_wide.reset_index()\n",
    "\n",
    "# Make distance columns\n",
    "distance_columns = ['living_adress'] + ['afstand_' + str(col) for col in df_distance_wide.columns[1:]]\n",
    "df_distance_wide.columns = distance_columns\n",
    "\n",
    "# Merging with existing dataset\n",
    "df_wide_with_distance = df_wide.merge(df_distance_wide, on='living_adress', how='left')"
   ]
  },
  {
   "cell_type": "code",
   "execution_count": 49,
   "id": "6141624b",
   "metadata": {},
   "outputs": [
    {
     "data": {
      "text/html": [
       "<div>\n",
       "<style scoped>\n",
       "    .dataframe tbody tr th:only-of-type {\n",
       "        vertical-align: middle;\n",
       "    }\n",
       "\n",
       "    .dataframe tbody tr th {\n",
       "        vertical-align: top;\n",
       "    }\n",
       "\n",
       "    .dataframe thead th {\n",
       "        text-align: right;\n",
       "    }\n",
       "</style>\n",
       "<table border=\"1\" class=\"dataframe\">\n",
       "  <thead>\n",
       "    <tr style=\"text-align: right;\">\n",
       "      <th></th>\n",
       "      <th>id_nr</th>\n",
       "      <th>destination_pc4</th>\n",
       "      <th>age_category_BC</th>\n",
       "      <th>age_category_DE</th>\n",
       "      <th>gender_1.0</th>\n",
       "      <th>gender_2.0</th>\n",
       "      <th>work_flexibility_flexible</th>\n",
       "      <th>work_flexibility_non_flexible</th>\n",
       "      <th>sector_cluster_Care</th>\n",
       "      <th>sector_cluster_Education</th>\n",
       "      <th>...</th>\n",
       "      <th>tt_6681_y</th>\n",
       "      <th>tt_6176_y</th>\n",
       "      <th>tt_4465_y</th>\n",
       "      <th>tt_7611_y</th>\n",
       "      <th>tt_1437_y</th>\n",
       "      <th>tt_4333_y</th>\n",
       "      <th>tt_7314_y</th>\n",
       "      <th>tt_7815_y</th>\n",
       "      <th>tt_6882_y</th>\n",
       "      <th>tt_1617_y</th>\n",
       "    </tr>\n",
       "  </thead>\n",
       "  <tbody>\n",
       "    <tr>\n",
       "      <th>0</th>\n",
       "      <td>1.0</td>\n",
       "      <td>1011.0</td>\n",
       "      <td>False</td>\n",
       "      <td>True</td>\n",
       "      <td>True</td>\n",
       "      <td>False</td>\n",
       "      <td>True</td>\n",
       "      <td>False</td>\n",
       "      <td>False</td>\n",
       "      <td>False</td>\n",
       "      <td>...</td>\n",
       "      <td>161.900896</td>\n",
       "      <td>265.343930</td>\n",
       "      <td>256.999794</td>\n",
       "      <td>199.703138</td>\n",
       "      <td>52.282505</td>\n",
       "      <td>265.863832</td>\n",
       "      <td>130.200831</td>\n",
       "      <td>238.654433</td>\n",
       "      <td>148.981497</td>\n",
       "      <td>75.667285</td>\n",
       "    </tr>\n",
       "    <tr>\n",
       "      <th>1</th>\n",
       "      <td>47.0</td>\n",
       "      <td>1217.0</td>\n",
       "      <td>True</td>\n",
       "      <td>False</td>\n",
       "      <td>True</td>\n",
       "      <td>False</td>\n",
       "      <td>False</td>\n",
       "      <td>True</td>\n",
       "      <td>False</td>\n",
       "      <td>False</td>\n",
       "      <td>...</td>\n",
       "      <td>163.266074</td>\n",
       "      <td>271.069417</td>\n",
       "      <td>260.736811</td>\n",
       "      <td>198.235912</td>\n",
       "      <td>53.639542</td>\n",
       "      <td>267.641693</td>\n",
       "      <td>128.733606</td>\n",
       "      <td>237.187210</td>\n",
       "      <td>147.514271</td>\n",
       "      <td>71.669864</td>\n",
       "    </tr>\n",
       "    <tr>\n",
       "      <th>2</th>\n",
       "      <td>52.0</td>\n",
       "      <td>1034.0</td>\n",
       "      <td>True</td>\n",
       "      <td>False</td>\n",
       "      <td>False</td>\n",
       "      <td>True</td>\n",
       "      <td>True</td>\n",
       "      <td>False</td>\n",
       "      <td>True</td>\n",
       "      <td>False</td>\n",
       "      <td>...</td>\n",
       "      <td>156.501056</td>\n",
       "      <td>264.304401</td>\n",
       "      <td>256.066017</td>\n",
       "      <td>191.470896</td>\n",
       "      <td>51.123459</td>\n",
       "      <td>264.650088</td>\n",
       "      <td>121.968590</td>\n",
       "      <td>230.422192</td>\n",
       "      <td>140.749254</td>\n",
       "      <td>70.404207</td>\n",
       "    </tr>\n",
       "    <tr>\n",
       "      <th>3</th>\n",
       "      <td>53.0</td>\n",
       "      <td>3607.0</td>\n",
       "      <td>True</td>\n",
       "      <td>False</td>\n",
       "      <td>True</td>\n",
       "      <td>False</td>\n",
       "      <td>False</td>\n",
       "      <td>True</td>\n",
       "      <td>False</td>\n",
       "      <td>True</td>\n",
       "      <td>...</td>\n",
       "      <td>156.501056</td>\n",
       "      <td>264.304401</td>\n",
       "      <td>256.066017</td>\n",
       "      <td>191.470896</td>\n",
       "      <td>51.123459</td>\n",
       "      <td>264.650088</td>\n",
       "      <td>121.968590</td>\n",
       "      <td>230.422192</td>\n",
       "      <td>140.749254</td>\n",
       "      <td>70.404207</td>\n",
       "    </tr>\n",
       "    <tr>\n",
       "      <th>4</th>\n",
       "      <td>57.0</td>\n",
       "      <td>1061.0</td>\n",
       "      <td>True</td>\n",
       "      <td>False</td>\n",
       "      <td>True</td>\n",
       "      <td>False</td>\n",
       "      <td>False</td>\n",
       "      <td>True</td>\n",
       "      <td>True</td>\n",
       "      <td>False</td>\n",
       "      <td>...</td>\n",
       "      <td>156.501056</td>\n",
       "      <td>264.304401</td>\n",
       "      <td>256.066017</td>\n",
       "      <td>191.470896</td>\n",
       "      <td>51.123459</td>\n",
       "      <td>264.650088</td>\n",
       "      <td>121.968590</td>\n",
       "      <td>230.422192</td>\n",
       "      <td>140.749254</td>\n",
       "      <td>70.404207</td>\n",
       "    </tr>\n",
       "    <tr>\n",
       "      <th>...</th>\n",
       "      <td>...</td>\n",
       "      <td>...</td>\n",
       "      <td>...</td>\n",
       "      <td>...</td>\n",
       "      <td>...</td>\n",
       "      <td>...</td>\n",
       "      <td>...</td>\n",
       "      <td>...</td>\n",
       "      <td>...</td>\n",
       "      <td>...</td>\n",
       "      <td>...</td>\n",
       "      <td>...</td>\n",
       "      <td>...</td>\n",
       "      <td>...</td>\n",
       "      <td>...</td>\n",
       "      <td>...</td>\n",
       "      <td>...</td>\n",
       "      <td>...</td>\n",
       "      <td>...</td>\n",
       "      <td>...</td>\n",
       "      <td>...</td>\n",
       "    </tr>\n",
       "    <tr>\n",
       "      <th>2545</th>\n",
       "      <td>15023.0</td>\n",
       "      <td>4416.0</td>\n",
       "      <td>False</td>\n",
       "      <td>True</td>\n",
       "      <td>True</td>\n",
       "      <td>False</td>\n",
       "      <td>False</td>\n",
       "      <td>True</td>\n",
       "      <td>False</td>\n",
       "      <td>False</td>\n",
       "      <td>...</td>\n",
       "      <td>243.375486</td>\n",
       "      <td>288.082764</td>\n",
       "      <td>14.653277</td>\n",
       "      <td>356.436781</td>\n",
       "      <td>232.725431</td>\n",
       "      <td>45.228004</td>\n",
       "      <td>296.288377</td>\n",
       "      <td>406.102897</td>\n",
       "      <td>266.811778</td>\n",
       "      <td>306.376955</td>\n",
       "    </tr>\n",
       "    <tr>\n",
       "      <th>2546</th>\n",
       "      <td>15032.0</td>\n",
       "      <td>1042.0</td>\n",
       "      <td>False</td>\n",
       "      <td>True</td>\n",
       "      <td>True</td>\n",
       "      <td>False</td>\n",
       "      <td>False</td>\n",
       "      <td>True</td>\n",
       "      <td>False</td>\n",
       "      <td>False</td>\n",
       "      <td>...</td>\n",
       "      <td>165.510571</td>\n",
       "      <td>268.809922</td>\n",
       "      <td>243.204683</td>\n",
       "      <td>208.929682</td>\n",
       "      <td>36.371541</td>\n",
       "      <td>250.109569</td>\n",
       "      <td>139.427374</td>\n",
       "      <td>247.880975</td>\n",
       "      <td>156.613302</td>\n",
       "      <td>69.119931</td>\n",
       "    </tr>\n",
       "    <tr>\n",
       "      <th>2547</th>\n",
       "      <td>15035.0</td>\n",
       "      <td>3901.0</td>\n",
       "      <td>False</td>\n",
       "      <td>True</td>\n",
       "      <td>True</td>\n",
       "      <td>False</td>\n",
       "      <td>False</td>\n",
       "      <td>True</td>\n",
       "      <td>False</td>\n",
       "      <td>False</td>\n",
       "      <td>...</td>\n",
       "      <td>69.142219</td>\n",
       "      <td>217.968768</td>\n",
       "      <td>239.158401</td>\n",
       "      <td>141.006050</td>\n",
       "      <td>118.501100</td>\n",
       "      <td>257.973776</td>\n",
       "      <td>80.427825</td>\n",
       "      <td>204.006475</td>\n",
       "      <td>53.463796</td>\n",
       "      <td>170.206990</td>\n",
       "    </tr>\n",
       "    <tr>\n",
       "      <th>2548</th>\n",
       "      <td>15041.0</td>\n",
       "      <td>1315.0</td>\n",
       "      <td>True</td>\n",
       "      <td>False</td>\n",
       "      <td>False</td>\n",
       "      <td>True</td>\n",
       "      <td>True</td>\n",
       "      <td>False</td>\n",
       "      <td>False</td>\n",
       "      <td>False</td>\n",
       "      <td>...</td>\n",
       "      <td>180.994244</td>\n",
       "      <td>288.476839</td>\n",
       "      <td>263.449824</td>\n",
       "      <td>215.964083</td>\n",
       "      <td>56.352560</td>\n",
       "      <td>270.354712</td>\n",
       "      <td>146.461776</td>\n",
       "      <td>254.915381</td>\n",
       "      <td>165.242442</td>\n",
       "      <td>46.473843</td>\n",
       "    </tr>\n",
       "    <tr>\n",
       "      <th>2549</th>\n",
       "      <td>15046.0</td>\n",
       "      <td>5311.0</td>\n",
       "      <td>True</td>\n",
       "      <td>False</td>\n",
       "      <td>False</td>\n",
       "      <td>False</td>\n",
       "      <td>False</td>\n",
       "      <td>True</td>\n",
       "      <td>True</td>\n",
       "      <td>False</td>\n",
       "      <td>...</td>\n",
       "      <td>NaN</td>\n",
       "      <td>NaN</td>\n",
       "      <td>NaN</td>\n",
       "      <td>NaN</td>\n",
       "      <td>NaN</td>\n",
       "      <td>NaN</td>\n",
       "      <td>NaN</td>\n",
       "      <td>NaN</td>\n",
       "      <td>NaN</td>\n",
       "      <td>NaN</td>\n",
       "    </tr>\n",
       "  </tbody>\n",
       "</table>\n",
       "<p>2550 rows × 46370 columns</p>\n",
       "</div>"
      ],
      "text/plain": [
       "        id_nr  destination_pc4  age_category_BC  age_category_DE  gender_1.0  \\\n",
       "0         1.0           1011.0            False             True        True   \n",
       "1        47.0           1217.0             True            False        True   \n",
       "2        52.0           1034.0             True            False       False   \n",
       "3        53.0           3607.0             True            False        True   \n",
       "4        57.0           1061.0             True            False        True   \n",
       "...       ...              ...              ...              ...         ...   \n",
       "2545  15023.0           4416.0            False             True        True   \n",
       "2546  15032.0           1042.0            False             True        True   \n",
       "2547  15035.0           3901.0            False             True        True   \n",
       "2548  15041.0           1315.0             True            False       False   \n",
       "2549  15046.0           5311.0             True            False       False   \n",
       "\n",
       "      gender_2.0  work_flexibility_flexible  work_flexibility_non_flexible  \\\n",
       "0          False                       True                          False   \n",
       "1          False                      False                           True   \n",
       "2           True                       True                          False   \n",
       "3          False                      False                           True   \n",
       "4          False                      False                           True   \n",
       "...          ...                        ...                            ...   \n",
       "2545       False                      False                           True   \n",
       "2546       False                      False                           True   \n",
       "2547       False                      False                           True   \n",
       "2548        True                       True                          False   \n",
       "2549       False                      False                           True   \n",
       "\n",
       "      sector_cluster_Care  sector_cluster_Education  ...   tt_6681_y  \\\n",
       "0                   False                     False  ...  161.900896   \n",
       "1                   False                     False  ...  163.266074   \n",
       "2                    True                     False  ...  156.501056   \n",
       "3                   False                      True  ...  156.501056   \n",
       "4                    True                     False  ...  156.501056   \n",
       "...                   ...                       ...  ...         ...   \n",
       "2545                False                     False  ...  243.375486   \n",
       "2546                False                     False  ...  165.510571   \n",
       "2547                False                     False  ...   69.142219   \n",
       "2548                False                     False  ...  180.994244   \n",
       "2549                 True                     False  ...         NaN   \n",
       "\n",
       "       tt_6176_y   tt_4465_y   tt_7611_y   tt_1437_y   tt_4333_y   tt_7314_y  \\\n",
       "0     265.343930  256.999794  199.703138   52.282505  265.863832  130.200831   \n",
       "1     271.069417  260.736811  198.235912   53.639542  267.641693  128.733606   \n",
       "2     264.304401  256.066017  191.470896   51.123459  264.650088  121.968590   \n",
       "3     264.304401  256.066017  191.470896   51.123459  264.650088  121.968590   \n",
       "4     264.304401  256.066017  191.470896   51.123459  264.650088  121.968590   \n",
       "...          ...         ...         ...         ...         ...         ...   \n",
       "2545  288.082764   14.653277  356.436781  232.725431   45.228004  296.288377   \n",
       "2546  268.809922  243.204683  208.929682   36.371541  250.109569  139.427374   \n",
       "2547  217.968768  239.158401  141.006050  118.501100  257.973776   80.427825   \n",
       "2548  288.476839  263.449824  215.964083   56.352560  270.354712  146.461776   \n",
       "2549         NaN         NaN         NaN         NaN         NaN         NaN   \n",
       "\n",
       "       tt_7815_y   tt_6882_y   tt_1617_y  \n",
       "0     238.654433  148.981497   75.667285  \n",
       "1     237.187210  147.514271   71.669864  \n",
       "2     230.422192  140.749254   70.404207  \n",
       "3     230.422192  140.749254   70.404207  \n",
       "4     230.422192  140.749254   70.404207  \n",
       "...          ...         ...         ...  \n",
       "2545  406.102897  266.811778  306.376955  \n",
       "2546  247.880975  156.613302   69.119931  \n",
       "2547  204.006475   53.463796  170.206990  \n",
       "2548  254.915381  165.242442   46.473843  \n",
       "2549         NaN         NaN         NaN  \n",
       "\n",
       "[2550 rows x 46370 columns]"
      ]
     },
     "execution_count": 49,
     "metadata": {},
     "output_type": "execute_result"
    }
   ],
   "source": [
    "df_wide_with_distance.merge(df_wide_tt, how='left', on= 'id_nr')"
   ]
  },
  {
   "cell_type": "markdown",
   "id": "437fe266",
   "metadata": {},
   "source": [
    "Checking if 2-way distances are reasonable"
   ]
  },
  {
   "cell_type": "code",
   "execution_count": null,
   "id": "e88ef8c0",
   "metadata": {},
   "outputs": [
    {
     "name": "stdout",
     "output_type": "stream",
     "text": [
      "Checking if 2-way distances are reasonable...\n",
      "Current distances (after *2 for 2-way):\n",
      "  Mean: 289547 meters (289.5 km)\n",
      "  Median: 276842 meters (276.8 km)\n",
      "  Min: 0 meters (0.0 km)\n",
      "  Max: 864373 meters (864.4 km)\n"
     ]
    }
   ],
   "source": [
    "\n",
    "sample_distances = df_tt['afstand'].dropna()\n",
    "print(f\"Current distances (after *2 for 2-way):\")\n",
    "print(f\"  Mean: {sample_distances.mean():.0f} meters ({sample_distances.mean()/1000:.1f} km)\")\n",
    "print(f\"  Median: {sample_distances.median():.0f} meters ({sample_distances.median()/1000:.1f} km)\")\n",
    "print(f\"  Min: {sample_distances.min():.0f} meters ({sample_distances.min()/1000:.1f} km)\")\n",
    "print(f\"  Max: {sample_distances.max():.0f} meters ({sample_distances.max()/1000:.1f} km)\")\n",
    "\n"
   ]
  },
  {
   "cell_type": "code",
   "execution_count": null,
   "id": "a22b5413",
   "metadata": {},
   "outputs": [
    {
     "name": "stdout",
     "output_type": "stream",
     "text": [
      "Checking travel time vs distance relationship...\n",
      "\n",
      "Zone 1011 (sample size: 2537):\n",
      "  Travel time: 161.7 min (range: 6.5-441.3)\n",
      "  Distance: 212.3 km (range: 2.1-469.0)\n",
      "  Implied speed: 75.2 km/h (range: 19.2-96.8)\n",
      "  Reasonable speeds (15-100 km/h): 2537/2537 (100.0%)\n",
      "\n",
      "Zone 1217 (sample size: 2537):\n",
      "  Travel time: 150.5 min (range: 6.3-456.5)\n",
      "  Distance: 192.9 km (range: 3.5-440.8)\n",
      "  Implied speed: 73.8 km/h (range: 25.4-94.8)\n",
      "  Reasonable speeds (15-100 km/h): 2537/2537 (100.0%)\n",
      "\n",
      "Zone 1034 (sample size: 2537):\n",
      "  Travel time: 159.7 min (range: 4.9-430.3)\n",
      "  Distance: 219.2 km (range: 1.7-479.8)\n",
      "  Implied speed: 79.4 km/h (range: 20.7-98.7)\n",
      "  Reasonable speeds (15-100 km/h): 2537/2537 (100.0%)\n",
      "\n",
      "=== SUMMARY ===\n",
      "Expected car speeds for different scenarios:\n",
      "  - City driving: 20-50 km/h\n",
      "  - Highway driving: 60-120 km/h\n",
      "  - Mixed (realistic average): 30-80 km/h\n",
      "  - Round-trip work commute: 25-70 km/h\n",
      "\n",
      "All distance statistics:\n",
      "  Mean: 280.1 km\n",
      "  Median: 267.2 km\n",
      "  95th percentile: 531.4 km\n",
      "  Max: 858.6 km\n"
     ]
    }
   ],
   "source": [
    "import numpy as np\n",
    "\n",
    "print(\"Checking travel time vs distance relationship...\")\n",
    "\n",
    "# Get a sample of matching travel time and distance data\n",
    "sample_zones = ['1011', '1217', '1034', '1042', '1061']  \n",
    "\n",
    "for zone in sample_zones[:3]:  # Check first 3 zones\n",
    "    tt_col = f'tt_{zone}'\n",
    "    dist_col = f'afstand_{zone}'\n",
    "    \n",
    "    if tt_col in df_wide_with_distance.columns and dist_col in df_wide_with_distance.columns:\n",
    "        mask = (df_wide_with_distance[tt_col].notna()) & \\\n",
    "               (df_wide_with_distance[dist_col].notna()) & \\\n",
    "               (df_wide_with_distance[tt_col] > 0) & \\\n",
    "               (df_wide_with_distance[dist_col] > 0)\n",
    "        \n",
    "        if mask.sum() > 0:\n",
    "            tt_values = df_wide_with_distance.loc[mask, tt_col]  # minutes\n",
    "            dist_values = df_wide_with_distance.loc[mask, dist_col]  # meters\n",
    "            \n",
    "            implied_speed_kmh = (dist_values / 1000) / (tt_values / 60)  # km/h\n",
    "            \n",
    "            print(f\"\\nZone {zone} (sample size: {len(tt_values)}):\")\n",
    "            print(f\"  Travel time: {tt_values.mean():.1f} min (range: {tt_values.min():.1f}-{tt_values.max():.1f})\")\n",
    "            print(f\"  Distance: {dist_values.mean()/1000:.1f} km (range: {dist_values.min()/1000:.1f}-{dist_values.max()/1000:.1f})\")\n",
    "            print(f\"  Implied speed: {implied_speed_kmh.mean():.1f} km/h (range: {implied_speed_kmh.min():.1f}-{implied_speed_kmh.max():.1f})\")\n",
    "            \n",
    "            reasonable_speed = (implied_speed_kmh >= 15) & (implied_speed_kmh <= 100)\n",
    "            print(f\"  Reasonable speeds (15-100 km/h): {reasonable_speed.sum()}/{len(implied_speed_kmh)} ({100*reasonable_speed.mean():.1f}%)\")\n",
    "\n",
    "print(f\"\\n=== SUMMARY ===\")\n",
    "print(\"Expected car speeds for different scenarios:\")\n",
    "print(\"  - City driving: 20-50 km/h\")\n",
    "print(\"  - Highway driving: 60-120 km/h\") \n",
    "print(\"  - Mixed (realistic average): 30-80 km/h\")\n",
    "print(\"  - Round-trip work commute: 25-70 km/h\")\n",
    "\n",
    "# Quick check \n",
    "all_distances = df_wide_with_distance[[col for col in df_wide_with_distance.columns if col.startswith('afstand_')]].values.flatten()\n",
    "all_distances = all_distances[~pd.isna(all_distances)]\n",
    "all_distances = all_distances[all_distances > 0]\n",
    "\n",
    "print(f\"\\nAll distance statistics:\")\n",
    "print(f\"  Mean: {all_distances.mean()/1000:.1f} km\")\n",
    "print(f\"  Median: {np.median(all_distances)/1000:.1f} km\") \n",
    "print(f\"  95th percentile: {np.percentile(all_distances, 95)/1000:.1f} km\")\n",
    "print(f\"  Max: {all_distances.max()/1000:.1f} km\")"
   ]
  },
  {
   "cell_type": "code",
   "execution_count": 53,
   "id": "d3d4316b",
   "metadata": {},
   "outputs": [],
   "source": [
    "df_test = df_wide_with_distance.copy()"
   ]
  },
  {
   "cell_type": "markdown",
   "id": "6f8acd7c",
   "metadata": {},
   "source": [
    "Filtering observations with relevant jobs in chosen zones"
   ]
  },
  {
   "cell_type": "code",
   "execution_count": null,
   "id": "648d3680",
   "metadata": {},
   "outputs": [
    {
     "name": "stdout",
     "output_type": "stream",
     "text": [
      "\n",
      "5.5. Filtering observations with relevant jobs in chosen zones...\n",
      "   - Removed 71 observations with no relevant jobs in chosen zones\n",
      "   - Remaining observations: 2479 (from 2550)\n"
     ]
    }
   ],
   "source": [
    "\n",
    "initial_count = len(df_test)\n",
    "\n",
    "work_sectors = ['Care', 'Education', 'Hospitality_Culture_Sports', \n",
    "                'Industry_Construction', 'Office_Services', 'Remaining', 'Shop']\n",
    "\n",
    "# Create filter for observations with relevant jobs in chosen zones\n",
    "valid_observations = []\n",
    "\n",
    "for idx, row in df_test.iterrows():\n",
    "    chosen_zone = int(row['destination_pc4'])\n",
    "    keep_observation = False\n",
    "    \n",
    "    # Check if person has jobs in their sector in the chosen zone\n",
    "    for sector in work_sectors:\n",
    "        sector_var = f'sector_cluster_{sector}'\n",
    "        job_var = f'work_sector_{sector}_jobs_{chosen_zone}'\n",
    "        \n",
    "        # If person works in this sector AND chosen zone has jobs in this sector\n",
    "        if (sector_var in df_test.columns and \n",
    "            job_var in df_test.columns and\n",
    "            row[sector_var] == 1 and \n",
    "            row[job_var] > 0):\n",
    "            keep_observation = True\n",
    "            break\n",
    "    \n",
    "    valid_observations.append(keep_observation)\n",
    "\n",
    "# Filter the dataframe\n",
    "df_test = df_test[valid_observations].copy()\n",
    "final_count = len(df_test)\n",
    "removed_count = initial_count - final_count\n",
    "\n",
    "print(f\"   - Removed {removed_count} observations with no relevant jobs in chosen zones\")\n",
    "print(f\"   - Remaining observations: {final_count} (from {initial_count})\")"
   ]
  },
  {
   "cell_type": "markdown",
   "id": "dbf342be",
   "metadata": {},
   "source": [
    "Saving the files in seperate files - one for extended model and one for basic model."
   ]
  },
  {
   "cell_type": "code",
   "execution_count": null,
   "id": "e3cf728e",
   "metadata": {},
   "outputs": [],
   "source": [
    "df_test.to_csv(os.path.join(data_dir, 'final_wide_format', 'wide_data_filtered_v6.csv'), index=False)"
   ]
  },
  {
   "cell_type": "code",
   "execution_count": null,
   "id": "d3c2dab1",
   "metadata": {},
   "outputs": [],
   "source": [
    "df_wide_with_distance.to_csv(os.path.join(data_dir, 'final_wide_format', 'wide_data_UNfiltered_v6.csv'), index=False)"
   ]
  }
 ],
 "metadata": {
  "kernelspec": {
   "display_name": "base",
   "language": "python",
   "name": "python3"
  },
  "language_info": {
   "codemirror_mode": {
    "name": "ipython",
    "version": 3
   },
   "file_extension": ".py",
   "mimetype": "text/x-python",
   "name": "python",
   "nbconvert_exporter": "python",
   "pygments_lexer": "ipython3",
   "version": "3.12.7"
  }
 },
 "nbformat": 4,
 "nbformat_minor": 5
}
